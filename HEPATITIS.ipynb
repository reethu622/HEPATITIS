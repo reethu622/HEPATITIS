{
  "nbformat": 4,
  "nbformat_minor": 0,
  "metadata": {
    "colab": {
      "name": "Untitled3.ipynb",
      "provenance": []
    },
    "kernelspec": {
      "name": "python3",
      "display_name": "Python 3"
    },
    "language_info": {
      "name": "python"
    }
  },
  "cells": [
    {
      "cell_type": "code",
      "metadata": {
        "id": "FozEY6p4OCJ5"
      },
      "source": [
        "from urllib.request import urlopen\n",
        "\n",
        "with open(\"hepatitis_csv.csv\", \"w\") as output_file:\n",
        "    data_found = False\n",
        "    attributes = []\n",
        "    \n",
        "        if '@attribute' in decoded_line:\n",
        "            apos = [pos for pos, char in enumerate(decoded_line) if char == \"\\'\"]\n",
        "            attributes.append(decoded_line[apos[0]: apos[1]].replace('\\'', ''))\n",
        "        if data_found:\n",
        "            decoded_line = decoded_line.replace(\"yes\", \"true\")\n",
        "            decoded_line = decoded_line.replace(\"no\", \"false\")\n",
        "            decoded_line = decoded_line.replace(\"?\", \"\")\n",
        "            output_file.write(decoded_line.lower() + '\\n')\n",
        "\n",
        "        if decoded_line == \"@data\":\n",
        "            output_file.write(','.join(attributes).lower() + '\\n')\n",
        "            data_found = True\n",
        "\n",
        "    output_file.close()"
      ],
      "execution_count": 3,
      "outputs": []
    }
  ]
}